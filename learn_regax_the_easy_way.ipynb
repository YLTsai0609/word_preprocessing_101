{
 "cells": [
  {
   "cell_type": "code",
   "execution_count": 1,
   "metadata": {
    "ExecuteTime": {
     "end_time": "2021-03-01T06:29:29.794459Z",
     "start_time": "2021-03-01T06:29:29.791609Z"
    }
   },
   "outputs": [],
   "source": [
    "import re"
   ]
  },
  {
   "cell_type": "code",
   "execution_count": 6,
   "metadata": {
    "ExecuteTime": {
     "end_time": "2021-03-01T06:34:47.844435Z",
     "start_time": "2021-03-01T06:34:47.838752Z"
    }
   },
   "outputs": [
    {
     "name": "stdout",
     "output_type": "stream",
     "text": [
      "['fat', 'cat', 'mat.']\n",
      "['fat ', 'cat ', 'mat.']\n"
     ]
    }
   ],
   "source": [
    "# https://regex101.com/r/DOc5Nu/1\n",
    "\n",
    "# 2.7 轉譯符號\n",
    "# 由於正則表達式中有特殊字元，如果你想要在你的句子中抓出他們，你必須使用\n",
    "# 轉譯符號\n",
    "# Why not fat, cat, mat.?\n",
    "print(re.findall(\"[f|c|m]at\\.?\", 'The fat cat sat on the mat.'))\n",
    "print(re.findall(\"[f|c|m]at.?\", 'The fat cat sat on the mat.'))"
   ]
  },
  {
   "cell_type": "code",
   "execution_count": null,
   "metadata": {},
   "outputs": [],
   "source": []
  }
 ],
 "metadata": {
  "jupytext": {
   "formats": "ipynb,py:light"
  },
  "kernelspec": {
   "display_name": "Python 3",
   "language": "python",
   "name": "python3"
  },
  "language_info": {
   "codemirror_mode": {
    "name": "ipython",
    "version": 3
   },
   "file_extension": ".py",
   "mimetype": "text/x-python",
   "name": "python",
   "nbconvert_exporter": "python",
   "pygments_lexer": "ipython3",
   "version": "3.7.6"
  },
  "toc": {
   "base_numbering": 1,
   "nav_menu": {},
   "number_sections": true,
   "sideBar": true,
   "skip_h1_title": false,
   "title_cell": "Table of Contents",
   "title_sidebar": "Contents",
   "toc_cell": false,
   "toc_position": {},
   "toc_section_display": true,
   "toc_window_display": false
  }
 },
 "nbformat": 4,
 "nbformat_minor": 4
}
